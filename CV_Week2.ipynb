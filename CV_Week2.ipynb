{
  "nbformat": 4,
  "nbformat_minor": 0,
  "metadata": {
    "colab": {
      "provenance": [],
      "include_colab_link": true
    },
    "kernelspec": {
      "name": "python3",
      "display_name": "Python 3"
    },
    "language_info": {
      "name": "python"
    }
  },
  "cells": [
    {
      "cell_type": "markdown",
      "metadata": {
        "id": "view-in-github",
        "colab_type": "text"
      },
      "source": [
        "<a href=\"https://colab.research.google.com/github/Fran14w/cv2/blob/main/CV_Week2.ipynb\" target=\"_parent\"><img src=\"https://colab.research.google.com/assets/colab-badge.svg\" alt=\"Open In Colab\"/></a>"
      ]
    },
    {
      "cell_type": "code",
      "execution_count": null,
      "metadata": {
        "colab": {
          "base_uri": "https://localhost:8080/"
        },
        "id": "N58-YXJKzr2l",
        "outputId": "da7abc9b-43ca-4181-e8d3-63460d386b74"
      },
      "outputs": [
        {
          "output_type": "stream",
          "name": "stdout",
          "text": [
            "Cloning into 'cv2'...\n",
            "remote: Enumerating objects: 35, done.\u001b[K\n",
            "remote: Counting objects: 100% (35/35), done.\u001b[K\n",
            "remote: Compressing objects: 100% (31/31), done.\u001b[K\n",
            "remote: Total 35 (delta 0), reused 0 (delta 0), pack-reused 0 (from 0)\u001b[K\n",
            "Receiving objects: 100% (35/35), 12.14 MiB | 13.72 MiB/s, done.\n"
          ]
        }
      ],
      "source": [
        "!git clone https://github.com/fenago/cv2"
      ]
    },
    {
      "cell_type": "code",
      "source": [
        "import cv2\n",
        "import numpy as np\n",
        "import matplotlib.pyplot as plt\n",
        "import matplotlib\n",
        "# Tells notebook to render figures in-page.\n",
        "%matplotlib inline\n",
        "from IPython.display import Image"
      ],
      "metadata": {
        "id": "kKrXBg1j2Dt7"
      },
      "execution_count": null,
      "outputs": []
    },
    {
      "cell_type": "markdown",
      "source": [
        "#  1. Displaying Images\n",
        "\n",
        "There are multiple ways to display images and the choice often depends on whether we are working within a Jupyter notebook or with a python script. When using notebooks we will make use of two methods for displaying images. One method will display an image from the file system directly in the browser (notebook). In this case, the image is read and displayed using a single command. This is often helpful for simply displaying an image. Another option is to read the image into a NumPy array using OpenCV and then displaying the image using the **`imshow()`** function from matplotlib. Both methods will be demonstrated in this notebook.\n",
        "\n",
        "Note: There is also an **`imshow()`** method in OpenCV, but this is only recommended for use within python scripts and is not recommended for use within a Jupter notebook. We will cover the use of **`imshow()`** later in the course.\n",
        "\n",
        "## 1.1 Displaying Images Directly in the Browser\n",
        "\n",
        "Let's start with displaying two black and white images that are different sizes. We will use the IPython **`Image()`** function to accomplish this. This is a very convenient way to read and display an image with a single command.  When displaying images directly in the browser using this method the actual size of the image is faithfully rendered.\n"
      ],
      "metadata": {
        "id": "IGcQjIG831ME"
      }
    },
    {
      "cell_type": "code",
      "source": [
        "# Display 18x18 pixel image.\n",
        "Image(filename='/content/cv2/Mod1/img_bw_18x18.png')"
      ],
      "metadata": {
        "colab": {
          "base_uri": "https://localhost:8080/",
          "height": 35
        },
        "id": "-EVN4LQH2DqT",
        "outputId": "cd14c748-2b64-494d-f18f-ed6745cf946d"
      },
      "execution_count": null,
      "outputs": [
        {
          "output_type": "execute_result",
          "data": {
            "image/png": "[encoded data removed]",
            "text/plain": [
              "<IPython.core.display.Image object>"
            ]
          },
          "metadata": {},
          "execution_count": 4
        }
      ]
    },
    {
      "cell_type": "code",
      "source": [
        "# Display 64x64 pixel image.\n",
        "Image(filename='/content/cv2/Mod1/img_bw_64x64.png')"
      ],
      "metadata": {
        "colab": {
          "base_uri": "https://localhost:8080/",
          "height": 81
        },
        "id": "DFiVd7ZY2DmP",
        "outputId": "cb2c4ed7-feae-4778-9f12-0a343c5d0696"
      },
      "execution_count": null,
      "outputs": [
        {
          "output_type": "execute_result",
          "data": {
            "image/png": "[encoded data removed]",
            "text/plain": [
              "<IPython.core.display.Image object>"
            ]
          },
          "metadata": {},
          "execution_count": 5
        }
      ]
    },
    {
      "cell_type": "code",
      "source": [],
      "metadata": {
        "id": "cWkha90q2Dia"
      },
      "execution_count": null,
      "outputs": []
    },
    {
      "cell_type": "code",
      "source": [],
      "metadata": {
        "id": "JaI552Ct2De_"
      },
      "execution_count": null,
      "outputs": []
    },
    {
      "cell_type": "code",
      "source": [],
      "metadata": {
        "id": "UCZUhET62DcC"
      },
      "execution_count": null,
      "outputs": []
    },
    {
      "cell_type": "code",
      "source": [],
      "metadata": {
        "id": "nyql5xG52DYq"
      },
      "execution_count": null,
      "outputs": []
    },
    {
      "cell_type": "code",
      "source": [],
      "metadata": {
        "id": "Xq5Ll0252DUO"
      },
      "execution_count": null,
      "outputs": []
    }
  ]
}