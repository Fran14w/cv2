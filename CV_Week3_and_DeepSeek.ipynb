{
  "nbformat": 4,
  "nbformat_minor": 0,
  "metadata": {
    "colab": {
      "provenance": [],
      "include_colab_link": true
    },
    "kernelspec": {
      "name": "python3",
      "display_name": "Python 3"
    },
    "language_info": {
      "name": "python"
    }
  },
  "cells": [
    {
      "cell_type": "markdown",
      "metadata": {
        "id": "view-in-github",
        "colab_type": "text"
      },
      "source": [
        "<a href=\"https://colab.research.google.com/github/Fran14w/cv2/blob/main/CV_Week3_and_DeepSeek.ipynb\" target=\"_parent\"><img src=\"https://colab.research.google.com/assets/colab-badge.svg\" alt=\"Open In Colab\"/></a>"
      ]
    },
    {
      "cell_type": "code",
      "source": [
        "!pip install janus -qqq\n",
        "!pip install transformers -qqq"
      ],
      "metadata": {
        "id": "Dbmg-Lgl9vBh"
      },
      "execution_count": 1,
      "outputs": []
    },
    {
      "cell_type": "code",
      "execution_count": null,
      "metadata": {
        "colab": {
          "base_uri": "https://localhost:8080/",
          "height": 383
        },
        "id": "0sEi4rFo9foB",
        "outputId": "c5299198-6e87-4ea3-f6f1-4e4ac2f7f72d"
      },
      "outputs": [
        {
          "output_type": "error",
          "ename": "ModuleNotFoundError",
          "evalue": "No module named 'janus.models'",
          "traceback": [
            "\u001b[0;31m---------------------------------------------------------------------------\u001b[0m",
            "\u001b[0;31mModuleNotFoundError\u001b[0m                       Traceback (most recent call last)",
            "\u001b[0;32m<ipython-input-5-bb585f819a35>\u001b[0m in \u001b[0;36m<cell line: 0>\u001b[0;34m()\u001b[0m\n\u001b[1;32m      4\u001b[0m \u001b[0;32mimport\u001b[0m \u001b[0mnumpy\u001b[0m \u001b[0;32mas\u001b[0m \u001b[0mnp\u001b[0m\u001b[0;34m\u001b[0m\u001b[0;34m\u001b[0m\u001b[0m\n\u001b[1;32m      5\u001b[0m \u001b[0;32mfrom\u001b[0m \u001b[0mtransformers\u001b[0m \u001b[0;32mimport\u001b[0m \u001b[0mAutoModelForCausalLM\u001b[0m\u001b[0;34m\u001b[0m\u001b[0;34m\u001b[0m\u001b[0m\n\u001b[0;32m----> 6\u001b[0;31m \u001b[0;32mfrom\u001b[0m \u001b[0mjanus\u001b[0m\u001b[0;34m.\u001b[0m\u001b[0mmodels\u001b[0m \u001b[0;32mimport\u001b[0m \u001b[0mMultiModalityCausalLM\u001b[0m\u001b[0;34m,\u001b[0m \u001b[0mVLChatProcessor\u001b[0m\u001b[0;34m\u001b[0m\u001b[0;34m\u001b[0m\u001b[0m\n\u001b[0m\u001b[1;32m      7\u001b[0m \u001b[0;34m\u001b[0m\u001b[0m\n\u001b[1;32m      8\u001b[0m \u001b[0;31m# specify the path to the model\u001b[0m\u001b[0;34m\u001b[0m\u001b[0;34m\u001b[0m\u001b[0m\n",
            "\u001b[0;31mModuleNotFoundError\u001b[0m: No module named 'janus.models'",
            "",
            "\u001b[0;31m---------------------------------------------------------------------------\u001b[0;32m\nNOTE: If your import is failing due to a missing package, you can\nmanually install dependencies using either !pip or !apt.\n\nTo view examples of installing some common dependencies, click the\n\"Open Examples\" button below.\n\u001b[0;31m---------------------------------------------------------------------------\u001b[0m\n"
          ],
          "errorDetails": {
            "actions": [
              {
                "action": "open_url",
                "actionText": "Open Examples",
                "url": "/notebooks/snippets/importing_libraries.ipynb"
              }
            ]
          }
        }
      ],
      "source": [
        "import os\n",
        "import PIL.Image\n",
        "import torch\n",
        "import numpy as np\n",
        "from transformers import AutoModelForCausalLM\n",
        "from janus.models import MultiModalityCausalLM, VLChatProcessor\n",
        "\n",
        "# specify the path to the model\n",
        "model_path = \"deepseek-ai/Janus-Pro-7B\"\n",
        "vl_chat_processor: VLChatProcessor = VLChatProcessor.from_pretrained(model_path)\n",
        "tokenizer = vl_chat_processor.tokenizer\n",
        "\n",
        "vl_gpt: MultiModalityCausalLM = AutoModelForCausalLM.from_pretrained(\n",
        "    model_path, trust_remote_code=True\n",
        ")\n",
        "vl_gpt = vl_gpt.to(torch.bfloat16).cuda().eval()\n",
        "\n",
        "conversation = [\n",
        "    {\n",
        "        \"role\": \"<|User|>\",\n",
        "        \"content\": \"A stunning princess from kabul in red, white traditional clothing, blue eyes, brown hair\",\n",
        "    },\n",
        "    {\"role\": \"<|Assistant|>\", \"content\": \"\"},\n",
        "]\n",
        "\n",
        "sft_format = vl_chat_processor.apply_sft_template_for_multi_turn_prompts(\n",
        "    conversations=conversation,\n",
        "    sft_format=vl_chat_processor.sft_format,\n",
        "    system_prompt=\"\",\n",
        ")\n",
        "prompt = sft_format + vl_chat_processor.image_start_tag\n",
        "\n",
        "@torch.inference_mode()\n",
        "def generate(\n",
        "    mmgpt: MultiModalityCausalLM,\n",
        "    vl_chat_processor: VLChatProcessor,\n",
        "    prompt: str,\n",
        "    temperature: float = 1,\n",
        "    parallel_size: int = 16,\n",
        "    cfg_weight: float = 5,\n",
        "    image_token_num_per_image: int = 576,\n",
        "    img_size: int = 384,\n",
        "    patch_size: int = 16,\n",
        "):\n",
        "    input_ids = vl_chat_processor.tokenizer.encode(prompt)\n",
        "    input_ids = torch.LongTensor(input_ids)\n",
        "\n",
        "    tokens = torch.zeros((parallel_size*2, len(input_ids)), dtype=torch.int).cuda()\n",
        "    for i in range(parallel_size*2):\n",
        "        tokens[i, :] = input_ids\n",
        "        if i % 2 != 0:\n",
        "            tokens[i, 1:-1] = vl_chat_processor.pad_id\n",
        "\n",
        "    inputs_embeds = mmgpt.language_model.get_input_embeddings()(tokens)\n",
        "\n",
        "    generated_tokens = torch.zeros((parallel_size, image_token_num_per_image), dtype=torch.int).cuda()\n",
        "\n",
        "    for i in range(image_token_num_per_image):\n",
        "        outputs = mmgpt.language_model.model(inputs_embeds=inputs_embeds, use_cache=True, past_key_values=outputs.past_key_values if i != 0 else None)\n",
        "        hidden_states = outputs.last_hidden_state\n",
        "\n",
        "        logits = mmgpt.gen_head(hidden_states[:, -1, :])\n",
        "        logit_cond = logits[0::2, :]\n",
        "        logit_uncond = logits[1::2, :]\n",
        "\n",
        "        logits = logit_uncond + cfg_weight * (logit_cond-logit_uncond)\n",
        "        probs = torch.softmax(logits / temperature, dim=-1)\n",
        "\n",
        "        next_token = torch.multinomial(probs, num_samples=1)\n",
        "        generated_tokens[:, i] = next_token.squeeze(dim=-1)\n",
        "\n",
        "        next_token = torch.cat([next_token.unsqueeze(dim=1), next_token.unsqueeze(dim=1)], dim=1).view(-1)\n",
        "        img_embeds = mmgpt.prepare_gen_img_embeds(next_token)\n",
        "        inputs_embeds = img_embeds.unsqueeze(dim=1)\n",
        "\n",
        "    dec = mmgpt.gen_vision_model.decode_code(generated_tokens.to(dtype=torch.int), shape=[parallel_size, 8, img_size//patch_size, img_size//patch_size])\n",
        "    dec = dec.to(torch.float32).cpu().numpy().transpose(0, 2, 3, 1)\n",
        "\n",
        "    dec = np.clip((dec + 1) / 2 * 255, 0, 255)\n",
        "\n",
        "    visual_img = np.zeros((parallel_size, img_size, img_size, 3), dtype=np.uint8)\n",
        "    visual_img[:, :, :] = dec\n",
        "\n",
        "    os.makedirs('generated_samples', exist_ok=True)\n",
        "    for i in range(parallel_size):\n",
        "        save_path = os.path.join('generated_samples', \"img_{}.jpg\".format(i))\n",
        "        PIL.Image.fromarray(visual_img[i]).save(save_path)\n",
        "\n",
        "generate(\n",
        "    vl_gpt,\n",
        "    vl_chat_processor,\n",
        "    prompt,\n",
        ")"
      ]
    }
  ]
}